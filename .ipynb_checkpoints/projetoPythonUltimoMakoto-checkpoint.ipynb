{
 "cells": [
  {
   "cell_type": "markdown",
   "metadata": {
    "colab_type": "text",
    "id": "N87RDZtO4fAt"
   },
   "source": [
    "# Projeto: Aquisição de Dados\n",
    "\n",
    "O projeto foi implementado na linguagem Python 3."
   ]
  },
  {
   "cell_type": "markdown",
   "metadata": {
    "colab_type": "text",
    "id": "j6yERjmcie6I"
   },
   "source": [
    "Existe uma pequena diferença entre fft() matlab e do python. A do Python solta os valores com uma módulo maior, apenas isso! Em python o sinal 32750x maior!\n",
    "\n",
    "Basta no começo o áudio carregado.\n",
    "\n",
    "Isso aconteceu porque ao importar os dados a função estava amplificando estes (não é pra acontecer agora)."
   ]
  },
  {
   "cell_type": "markdown",
   "metadata": {
    "colab_type": "text",
    "id": "6VLRkuc52JDQ"
   },
   "source": [
    "# Metodologia\n",
    "\n",
    "* Subtrair média dos vetores X e Y e subtrair deles\n",
    "* Montar sinal p = x + jy (complexo)\n",
    "* Aplicar fft no sinal p/N (N = tamanho do sinal)\n",
    "* Aplicar fftshift e multiplicar por -j\n",
    "* Visualizar um padrão superficial\n",
    "* Limpar o sinal (aplicar filtro)\n",
    "* Identificar as falhas"
   ]
  },
  {
   "cell_type": "code",
   "execution_count": null,
   "metadata": {
    "colab": {},
    "colab_type": "code",
    "id": "ZR81L89MEhH2"
   },
   "outputs": [],
   "source": [
    "####### FUNÇÕES PARA USAR NO PROJETO #######\n",
    "import numpy as np\n",
    "import pandas as pd\n",
    "from scipy import signal as signal\n",
    "import matplotlib.pyplot as plt\n",
    "#from scipy.fftpack import rfft, irfft, fftfreq\n",
    "#from scipy.signal import butter, filtfilt, lfilter\n",
    "#from obspy.signal.filter import highpass, lowpass, bandpass\n",
    "\n",
    "# função para plotar\n",
    "def plota_Xreal_Yimag(x, y, titulo, xlim=[0, .15], ylim=[0, .15]):\n",
    "    fig, (ax1, ax2) = plt.subplots(2)\n",
    "    fig.suptitle(titulo)\n",
    "    ax1.plot(tempo, x)\n",
    "    ax2.plot(tempo, y)\n",
    "    ax1.set(xlabel='tempo', ylabel='X (real)')\n",
    "    ax2.set(xlabel='tempo', ylabel='Y (complexo)')\n",
    "    axes = plt.gca()\n",
    "    ax1.set_xlim(xlim)\n",
    "    ax2.set_xlim(ylim)\n",
    "    \n",
    "# plota X e Y\n",
    "def plotarXeY(x, y, titulo, xlim=[0, .15], ylim=[0, .15]):\n",
    "    plt.plot(x, y)\n",
    "    plt.title(titulo)\n",
    "    plt.xlabel('tempo')\n",
    "    plt.ylabel('valor complexo sinal P')\n",
    "    axes = plt.gca()\n",
    "    axes.set_xlim(xlim)\n",
    "    axes.set_ylim(ylim)\n",
    "\n",
    "# plota X e Y (V2)\n",
    "def plotarXeY2(x, y, titulo):\n",
    "    plt.plot(x, y)\n",
    "    plt.title(titulo)\n",
    "    plt.xlabel('frequencia')\n",
    "    plt.ylabel('valor sinal')\n",
    "    \n",
    "# função que subtrai a média do vetor\n",
    "def subMedia(vetor):\n",
    "    media = np.mean(vetor)\n",
    "    return(vetor - media)\n",
    "\n",
    "# aplica para o par de vetores\n",
    "def parSubMedia(x, y):\n",
    "    return(subMedia(x), subMedia(y))\n",
    "\n",
    "# monta sinal P\n",
    "def criaSinalP(x, y):\n",
    "    numComplexos = [ complex(x[i], y[i]) for i in np.arange(len(x)) ]\n",
    "    numComplexos = np.asarray(numComplexos)\n",
    "    return( numComplexos )\n",
    "\n",
    "# função que divide o vetor pelo tamanho dele\n",
    "def dividePorN(p):\n",
    "    return( p/len(p) )\n",
    "\n",
    "# função que gera o vetor frequência de cada sinal\n",
    "def geraFreqs(fftShifitada):\n",
    "    maxFreq = len(fftShifitada)\n",
    "    freqs = np.linspace(-maxFreq/2, maxFreq/2, maxFreq)\n",
    "    return(freqs)\n",
    "\n",
    "# função que inverte a fase do sinal\n",
    "def inverteFaseSinal(sinal):\n",
    "    return( np.conj(sinal) ) \n",
    "\n",
    "# plota fft\n",
    "def plotaSinalFFT(sinalfft, titulo):\n",
    "    plt.plot(sinalfft)\n",
    "    plt.title(titulo)\n",
    "    plt.xlabel('frequencia')\n",
    "    plt.ylabel('valor sinal')\n",
    "    \n",
    "# plota fft com eixo X\n",
    "def plotaSinalFFTeixoX(sinalfft, titulo, xlim=[0,10000]):\n",
    "    plt.plot(sinalfft)\n",
    "    plt.title(titulo)\n",
    "    plt.xlabel('frequencia')\n",
    "    plt.ylabel('valor sinal')\n",
    "    axes = plt.gca()\n",
    "    axes.set_xlim(xlim)\n",
    "\n",
    "# plota fftV2\n",
    "def plotaSinalFFTeixos(sinalfft, titulo, xlim=[0, .15], ylim=[0, .15]):\n",
    "    plt.plot(sinalfft)\n",
    "    plt.title(titulo)\n",
    "    plt.xlabel('frequencia')\n",
    "    plt.ylabel('valor sinal')\n",
    "    axes = plt.gca()\n",
    "    axes.set_xlim(xlim)\n",
    "    axes.set_ylim(ylim)\n",
    "\n",
    "# função que retorna todos dados na frequência para \n",
    "# serem visualizados e limpados (aplicação dos filtros)\n",
    "def seisDadosNaFrequencia(listaX, listaY, transladar=False, w0=0, tempo=[0,1,2]):\n",
    "  # transladar será para dizer se quero ou não transladar o sinal na frequencia\n",
    "  # listaX tem as 06 falhas de X\n",
    "  # listaY tem as 06 falhas de Y\n",
    "\n",
    "  # tirando a media dos dados\n",
    "    for i in np.arange(len(listaX)):\n",
    "        listaX[i], listaY[i] = parSubMedia(listaX[i], listaY[i]) \n",
    "\n",
    "  # criando o sinal p = X + jY\n",
    "    listaP = listaX.copy()\n",
    "    for i in np.arange(len(listaX)):\n",
    "        listaP[i] = criaSinalP(listaX[i], listaY[i]) \n",
    "\n",
    "  # dividindo sinal P por N\n",
    "    for i in np.arange(len(listaP)):\n",
    "        listaP[i] = dividePorN(listaP[i]) \n",
    "        \n",
    "  # aqui vamos transladar no sinal na frequência\n",
    "  # propriedade da modulação\n",
    "  # x(n) * exp(j * w0 * n) = X(w - w0)\n",
    "    if transladar == True:\n",
    "        for i in np.arange(len(listaP)):\n",
    "            for j in np.arange(len(listaP[i])):\n",
    "                listaP[i][j] = listaP[i][j]*np.exp(1j*w0*np.pi*tempo[j]*2)\n",
    "                \n",
    "  # aplicando FFT\n",
    "    listaPfft = listaP.copy()\n",
    "    for i in np.arange(len(listaP)):\n",
    "        listaPfft[i] = np.fft.fft(listaP[i])\n",
    "\n",
    "  # aplicando FFTshift\n",
    "    listaPfftShift = listaPfft.copy()\n",
    "    for i in np.arange(len(listaPfft)):\n",
    "        listaPfftShift[i] = np.fft.fftshift(listaPfft[i]) \n",
    "\n",
    "  # inverter a fase do sinal\n",
    "    for i in np.arange(len(listaPfftShift)):\n",
    "        listaPfftShift[i] = inverteFaseSinal(listaPfftShift[i]) \n",
    "\n",
    "  # gera as frequencias do sinal (centralizado em ZERO)\n",
    "    listaFreqs = listaPfftShift.copy()\n",
    "    for i in np.arange(len(listaPfftShift)):\n",
    "        listaFreqs[i] = geraFreqs(listaPfftShift[i]) \n",
    "\n",
    "  # retornando lista com sinais shiftados na frequencia e suas respectivas frequencias \n",
    "    return(listaFreqs, listaPfftShift, listaP)\n",
    "\n",
    "# desfaz a trasnlação na frequencia\n",
    "def desfazTranslacaoFreq(sinalTranslad, w0, tempo):\n",
    "    sinal = sinalTranslad.copy()\n",
    "    for i in np.arange(len(sinalTranslad)):\n",
    "        sinal[i] = sinalTranslad[i]*np.exp(1j*(-1)+w0*np.pi*tempo[i]*2)\n",
    "    return(sinal)\n",
    "\n",
    "def desfazTranslacaoFreqV2(sinalTranslad, w0, tempo):\n",
    "    sinal = sinalTranslad.copy()\n",
    "    for i in np.arange(len(sinalTranslad)):\n",
    "        sinal[i] = sinalTranslad[i]/np.exp(1j*w0*np.pi*tempo[i]*2)\n",
    "    return(sinal)\n",
    "\n",
    "def plotaSEISfalhas(listaFreq, listaPfftSh, titulo):\n",
    "    fig, ((ax1, ax2), (ax3, ax4), (ax5, ax6)) = plt.subplots(3, 2)\n",
    "    fig.suptitle(titulo)\n",
    "    ax1.plot(listaFreq[0], listaPfftSh[0])\n",
    "    ax2.plot(listaFreq[1], listaPfftSh[1])\n",
    "    ax3.plot(listaFreq[2], listaPfftSh[2])\n",
    "    ax4.plot(listaFreq[3], listaPfftSh[3])\n",
    "    ax5.plot(listaFreq[4], listaPfftSh[4])\n",
    "    ax6.plot(listaFreq[5], listaPfftSh[5])\n",
    "    ax1.set(ylabel='FALHA 01')\n",
    "    ax2.set(ylabel='FALHA 02')\n",
    "    ax3.set(ylabel='FALHA 03')\n",
    "    ax4.set(ylabel='FALHA 04')\n",
    "    ax5.set(ylabel='FALHA 05')\n",
    "    ax6.set(ylabel='FALHA 06')\n",
    "    fig.tight_layout(pad=3, w_pad=0.5, h_pad=1.0)\n",
    "\n",
    "def plotaSEISfalhasZoomEixos(listaFreq, listaPfftSh, titulo, xlim, ylim):\n",
    "    fig, ((ax1, ax2), (ax3, ax4), (ax5, ax6)) = plt.subplots(3, 2)\n",
    "    fig.suptitle(titulo)\n",
    "  \n",
    "    #x1.set_title('1')\n",
    "    #x2.set_title('2')\n",
    "    ax1.plot(listaFreq[0], listaPfftSh[0])\n",
    "    ax2.plot(listaFreq[1], listaPfftSh[1])\n",
    "    ax3.plot(listaFreq[2], listaPfftSh[2])\n",
    "    ax4.plot(listaFreq[3], listaPfftSh[3])\n",
    "    ax5.plot(listaFreq[4], listaPfftSh[4])\n",
    "    ax6.plot(listaFreq[5], listaPfftSh[5])\n",
    "  #x1label('parte X (real)')\n",
    "  #x2label('parte Y(complexo')\n",
    "    ax1.set(ylabel='FALHA 01')\n",
    "    ax2.set(ylabel='FALHA 02')\n",
    "    ax3.set(ylabel='FALHA 03')\n",
    "    ax4.set(ylabel='FALHA 04')\n",
    "    ax5.set(ylabel='FALHA 05')\n",
    "    ax6.set(ylabel='FALHA 06')\n",
    "    axes = plt.gca()\n",
    "    ax1.set_xlim(xlim)\n",
    "    ax2.set_xlim(xlim)\n",
    "    ax3.set_xlim(xlim)\n",
    "    ax4.set_xlim(xlim)\n",
    "    ax5.set_xlim(xlim)\n",
    "    ax6.set_xlim(xlim)\n",
    "    ax1.set_ylim(ylim)\n",
    "    ax2.set_ylim(ylim)\n",
    "    ax3.set_ylim(ylim)\n",
    "    ax4.set_ylim(ylim)\n",
    "    ax5.set_ylim(ylim)\n",
    "    ax6.set_ylim(ylim)\n",
    "    fig.tight_layout(pad=3, w_pad=0.5, h_pad=1.0)\n",
    "    \n",
    "# plota sinal corrigido na frequencia\n",
    "def plotaSinalCorrigFreq(sinal, titulo='a', xlim=[-300, 700], ylim=[-.1, .6]):\n",
    "    fftFalha = np.fft.fft(sinal)\n",
    "    fftshFalha = np.fft.fftshift(fftFalha)\n",
    "    fftshFalha = inverteFaseSinal(fftshFalha)\n",
    "    freqsFalha = geraFreqs(fftshFalha)\n",
    "    plotarXeY(freqsFalha, fftshFalha, titulo, xlim, ylim)\n",
    "  \n",
    "  # Fc = frequencia de corte\n",
    "  # Fs = frequencia de amostragem\n",
    "  # ordemN = ordem do filtro (teste para os valores 50, 100, 200)\n",
    "  \n",
    "  # Desenvolvendo as funções dos Filtros\n",
    "  \n",
    "  # aqui criando e aplicando filtro passa-baixa ou passa-alta\n",
    "  # butterwoth passa Baixa\n",
    "def butter_passaBaixa(Fc=240*1.1, Fs=10000, ordemN=5):\n",
    "    freqNormal = float(Fc) / (Fs/2)\n",
    "    b, a = signal.butter(ordemN, freqNormal, btype='lowpass')     \n",
    "    return b, a\n",
    "  \n",
    "  # butterwoth passa Alta\n",
    "def butter_passaAlta(Fc=80*.9, Fs=10000, ordemN=5):\n",
    "    freqNormal = float(Fc) / (Fs/2)\n",
    "    b, a = signal.butter(ordemN, freqNormal, btype='highpass') # highpass\n",
    "    return b, a\n",
    "  \n",
    "  # aplicando o filtro\n",
    "def butter_filtraPassaBaixa(dados, Fc=240*1.1, Fs=10000, ordemN=5):\n",
    "    b, a = butter_passaBaixa(Fc, Fs, ordemN=ordemN)\n",
    "    y = signal.filtfilt(b, a, dados) \n",
    "    return y \n",
    "  \n",
    "def butter_filtraPassaAlta(dados, Fc=80*.9, Fs=10000, ordemN=5):\n",
    "    b, a = butter_passaAlta(Fc, Fs, ordemN=ordemN)\n",
    "    y = signal.filtfilt(b, a, dados) \n",
    "    return y \n",
    "  \n",
    "  # FILTRO PASSABANDA\n",
    "def butter_bandpass(lowcut=80*.9, highcut=240*1.1, fs=10000, order=5):\n",
    "    nyq = 0.5 * fs\n",
    "    low = lowcut / nyq\n",
    "    high = highcut / nyq\n",
    "    b, a = butter(order, [low, high], btype='band')\n",
    "    return b, a\n",
    "  \n",
    "  \n",
    "def butter_bandpass_filter(data, lowcut=80*.9, highcut=240*1.1, fs=10000, order=5):\n",
    "    b, a = butter_bandpass(lowcut, highcut, fs, order=order)\n",
    "    y = lfilter(b, a, data)\n",
    "    return y\n",
    "\n",
    "# compara 3 pares de sinais (sinalSujo, sinalLimpo) \n",
    "def plotaComparacaoSujoLimpo(eixoXvet, listaSinalSujo, listaSinalLimpo, titulo, xlim, ylim, numFalhas):\n",
    "    sinalSujo = listaSinalSujo.copy()\n",
    "    sinalLimpo = listaSinalLimpo.copy()\n",
    "    fig, ((ax1, ax2), (ax3, ax4), (ax5, ax6)) = plt.subplots(3, 2)\n",
    "    fig.suptitle(titulo+'\\n esquerda Sinal Sujo | esquerda Sinal Limpo')\n",
    "    ax1.plot(eixoXvet, sinalSujo[0])\n",
    "    ax2.plot(eixoXvet, sinalLimpo[0])\n",
    "    ax3.plot(eixoXvet, sinalSujo[1])\n",
    "    ax4.plot(eixoXvet, sinalLimpo[1])\n",
    "    ax5.plot(eixoXvet, sinalSujo[2])\n",
    "    ax6.plot(eixoXvet, sinalLimpo[2])\n",
    "    ax1.set(ylabel='FALHA 0'+str(numFalhas[0]))\n",
    "    ax2.set(ylabel='FALHA 0'+str(numFalhas[0]))\n",
    "    ax3.set(ylabel='FALHA 0'+str(numFalhas[1]))\n",
    "    ax4.set(ylabel='FALHA 0'+str(numFalhas[1]))\n",
    "    ax5.set(ylabel='FALHA 0'+str(numFalhas[2]))\n",
    "    ax6.set(ylabel='FALHA 0'+str(numFalhas[2]))\n",
    "    axes = plt.gca()\n",
    "    ax1.set_xlim(xlim)\n",
    "    ax2.set_xlim(xlim)\n",
    "    ax3.set_xlim(xlim)\n",
    "    ax4.set_xlim(xlim)\n",
    "    ax5.set_xlim(xlim)\n",
    "    ax6.set_xlim(xlim)\n",
    "    ax1.set_ylim(ylim)\n",
    "    ax2.set_ylim(ylim)\n",
    "    ax3.set_ylim(ylim)\n",
    "    ax4.set_ylim(ylim)\n",
    "    ax5.set_ylim(ylim)\n",
    "    ax6.set_ylim(ylim)\n",
    "    fig.tight_layout(pad=3, w_pad=0.5, h_pad=1.0)\n",
    "\n",
    "    # aqui vamos pegar um sinal limpo complexo e retornar ele na frequencia\n",
    "def seisDadosNaFrequenciaLIMPO(listaP, tempo=[0,1,2]):\n",
    "  # aplicando FFT\n",
    "    listaPfft = listaP.copy()\n",
    "    for i in np.arange(len(listaP)):\n",
    "        listaPfft[i] = np.fft.fft(listaP[i])\n",
    "\n",
    "  # aplicando FFTshift\n",
    "    listaPfftShift = listaPfft.copy()\n",
    "    for i in np.arange(len(listaPfft)):\n",
    "        listaPfftShift[i] = np.fft.fftshift(listaPfft[i]) \n",
    "\n",
    "  # inverter a fase do sinal\n",
    "    for i in np.arange(len(listaPfftShift)):\n",
    "        listaPfftShift[i] = inverteFaseSinal(listaPfftShift[i]) \n",
    "\n",
    "  # gera as frequencias do sinal (centralizado em ZERO)\n",
    "    listaFreqs = listaPfftShift.copy()\n",
    "    for i in np.arange(len(listaPfftShift)):\n",
    "        listaFreqs[i] = geraFreqs(listaPfftShift[i]) \n",
    "\n",
    "  # retornando lista com sinais shiftados na frequencia e suas respectivas frequencias \n",
    "    return(listaFreqs, listaPfftShift, listaP)\n",
    " "
   ]
  },
  {
   "cell_type": "code",
   "execution_count": null,
   "metadata": {
    "colab": {
     "base_uri": "https://localhost:8080/",
     "height": 152,
     "resources": {
      "http://localhost:8080/nbextensions/google.colab/files.js": {
       "data": "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",
       "headers": [
        [
         "content-type",
         "application/javascript"
        ]
       ],
       "ok": true,
       "status": 200,
       "status_text": "OK"
      }
     }
    },
    "colab_type": "code",
    "id": "DVqWdA6IgHdD",
    "outputId": "fb38fb1f-fda8-4c7c-e693-3219a54ce35d"
   },
   "outputs": [],
   "source": [
    "# REMOVER\n",
    "\n",
    "# adicionando os arquivos no Collab\n",
    "from google.colab import files\n",
    "uploaded = files.upload()"
   ]
  },
  {
   "cell_type": "code",
   "execution_count": null,
   "metadata": {
    "colab": {
     "base_uri": "https://localhost:8080/",
     "height": 1000,
     "resources": {
      "http://localhost:8080/nbextensions/google.colab/files.js": {
       "data": "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",
       "headers": [
        [
         "content-type",
         "application/javascript"
        ]
       ],
       "ok": true,
       "status": 200,
       "status_text": ""
      }
     }
    },
    "colab_type": "code",
    "id": "hI58pOWvk8KQ",
    "outputId": "ebc2d2e8-9a06-4e13-9746-e5e33c89329b"
   },
   "outputs": [],
   "source": [
    "# REMOVER\n",
    "\n",
    "# adicionando os arquivos no Collab\n",
    "from google.colab import files\n",
    "uploaded = files.upload()"
   ]
  },
  {
   "cell_type": "code",
   "execution_count": null,
   "metadata": {
    "colab": {
     "base_uri": "https://localhost:8080/",
     "height": 743,
     "resources": {
      "http://localhost:8080/nbextensions/google.colab/files.js": {
       "data": "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",
       "headers": [
        [
         "content-type",
         "application/javascript"
        ]
       ],
       "ok": true,
       "status": 200,
       "status_text": "OK"
      }
     }
    },
    "colab_type": "code",
    "id": "wWnncy30BrZu",
    "outputId": "40e24f3e-7e1f-4485-c7f1-a1c78b9f3381"
   },
   "outputs": [],
   "source": [
    "# REMOVER\n",
    "\n",
    "# adicionando os arquivos no Collab\n",
    "from google.colab import files\n",
    "uploaded = files.upload()"
   ]
  },
  {
   "cell_type": "markdown",
   "metadata": {
    "colab_type": "text",
    "id": "PZ6VRyrufxFq"
   },
   "source": [
    "# Importação dos dados"
   ]
  },
  {
   "cell_type": "code",
   "execution_count": null,
   "metadata": {
    "colab": {},
    "colab_type": "code",
    "id": "yBLVL0uZ4enu"
   },
   "outputs": [],
   "source": [
    "# vetor de tempo\n",
    "tempo = np.loadtxt('tempo.txt')\n",
    "# X sem falha\n",
    "semFalhax = np.loadtxt('x_original.txt')\n",
    "# Y sem falha\n",
    "semFalhay = np.loadtxt('y_original.txt')\n",
    "\n",
    "# falha A\n",
    "falhaA_1x = np.loadtxt('x_a1_c.txt')\n",
    "falhaA_1y = np.loadtxt('y_a1_c.txt')\n",
    "falhaA_2x = np.loadtxt('x_a2_c.txt')\n",
    "falhaA_2y = np.loadtxt('y_a2_c.txt')\n",
    "falhaA_3x = np.loadtxt('x_a3_c.txt')\n",
    "falhaA_3y = np.loadtxt('y_a3_c.txt')\n",
    "falhaA_4x = np.loadtxt('x_a4_c.txt')\n",
    "falhaA_4y = np.loadtxt('y_a4_c.txt')\n",
    "falhaA_5x = np.loadtxt('x_a5_c.txt')\n",
    "falhaA_5y = np.loadtxt('y_a5_c.txt')\n",
    "falhaA_6x = np.loadtxt('x_a6_c.txt')\n",
    "falhaA_6y = np.loadtxt('y_a6_c.txt')\n",
    "\n",
    "# falha B\n",
    "falhaB_1x = np.loadtxt('x_b1_c.txt')\n",
    "falhaB_1y = np.loadtxt('y_b1_c.txt')\n",
    "falhaB_2x = np.loadtxt('x_b2_c.txt')\n",
    "falhaB_2y = np.loadtxt('y_b2_c.txt')\n",
    "falhaB_3x = np.loadtxt('x_b3_c.txt')\n",
    "falhaB_3y = np.loadtxt('y_b3_c.txt')\n",
    "falhaB_4x = np.loadtxt('x_b4_c.txt')\n",
    "falhaB_4y = np.loadtxt('y_b4_c.txt')\n",
    "falhaB_5x = np.loadtxt('x_b5_c.txt')\n",
    "falhaB_5y = np.loadtxt('y_b5_c.txt')\n",
    "falhaB_6x = np.loadtxt('x_b6_c.txt')\n",
    "falhaB_6y = np.loadtxt('y_b6_c.txt')"
   ]
  },
  {
   "cell_type": "markdown",
   "metadata": {
    "colab_type": "text",
    "id": "XmUG030afxF3"
   },
   "source": [
    "# Visualizando os dados no TEMPO"
   ]
  },
  {
   "cell_type": "code",
   "execution_count": null,
   "metadata": {
    "colab": {
     "base_uri": "https://localhost:8080/",
     "height": 308
    },
    "colab_type": "code",
    "id": "FWRQRTBrfxGW",
    "outputId": "e954b6ec-e21f-4b63-c9f9-e635bee4336c"
   },
   "outputs": [],
   "source": [
    "plota_Xreal_Yimag(semFalhax, semFalhay, 'Dados SEM FALHAS no tempo')"
   ]
  },
  {
   "cell_type": "code",
   "execution_count": null,
   "metadata": {
    "colab": {
     "base_uri": "https://localhost:8080/",
     "height": 308
    },
    "colab_type": "code",
    "id": "UbaqP3S0hnK5",
    "outputId": "55365695-eee8-410b-8239-1a79a176239a"
   },
   "outputs": [],
   "source": [
    "plota_Xreal_Yimag(falhaA_1x, falhaA_1y, 'Dados com FALHA A-1')"
   ]
  },
  {
   "cell_type": "code",
   "execution_count": null,
   "metadata": {
    "colab": {
     "base_uri": "https://localhost:8080/",
     "height": 308
    },
    "colab_type": "code",
    "id": "ysSaU4QdhwWq",
    "outputId": "b6138e0c-22af-49e0-bee9-36729055eb2f"
   },
   "outputs": [],
   "source": [
    "plota_Xreal_Yimag(falhaB_1x, falhaB_1y, 'Dados com FALHA B-1')"
   ]
  },
  {
   "cell_type": "code",
   "execution_count": null,
   "metadata": {
    "colab": {
     "base_uri": "https://localhost:8080/",
     "height": 308
    },
    "colab_type": "code",
    "id": "hf7ovLrti86V",
    "outputId": "162cae8b-0361-40e4-e3a6-ce7c200400b8"
   },
   "outputs": [],
   "source": [
    "plota_Xreal_Yimag(falhaB_1x, falhaB_1y, 'Dados com FALHA B-1', [0,1], [0,1])"
   ]
  },
  {
   "cell_type": "markdown",
   "metadata": {
    "colab_type": "text",
    "id": "MzIVuk9z6D3F"
   },
   "source": [
    "# Montando sinal P"
   ]
  },
  {
   "cell_type": "markdown",
   "metadata": {
    "colab_type": "text",
    "id": "scBzYZTv8X86"
   },
   "source": [
    "Aqui vamos subtrair os vetores X e Y das médias para sair da vibração no equilíbrio estáático. "
   ]
  },
  {
   "cell_type": "code",
   "execution_count": null,
   "metadata": {
    "colab": {},
    "colab_type": "code",
    "id": "9uSaEoFe63U6"
   },
   "outputs": [],
   "source": [
    "# Subtraindo a média do vetor X de cada elemento do vetor X. O mesmo deve ser feito como vetor T.\n",
    "semFalhax, semFalhay = parSubMedia(semFalhax, semFalhay)\n",
    "falhaA_1x, falhaA_1y = parSubMedia(falhaA_1x, falhaA_1y)\n",
    "falhaB_1x, falhaB_1y = parSubMedia(falhaB_1x, falhaB_1y)"
   ]
  },
  {
   "cell_type": "markdown",
   "metadata": {
    "colab_type": "text",
    "id": "HgJYvcol8lxT"
   },
   "source": [
    "Vamos montar o sinal P para o sinal sem falha e com as falhas.\n"
   ]
  },
  {
   "cell_type": "code",
   "execution_count": null,
   "metadata": {
    "colab": {},
    "colab_type": "code",
    "id": "CZgAmWqG_B8W"
   },
   "outputs": [],
   "source": [
    "# Criando sinais p\n",
    "pSemFalha = criaSinalP(semFalhax, semFalhay)\n",
    "pFalhaA = criaSinalP(falhaA_1x, falhaA_1y)\n",
    "pFalhaB = criaSinalP(falhaB_1x, falhaB_1y)"
   ]
  },
  {
   "cell_type": "code",
   "execution_count": null,
   "metadata": {
    "colab": {},
    "colab_type": "code",
    "id": "rVnBBewBG1_w"
   },
   "outputs": [],
   "source": [
    "# Vidivindindo os elementos do dinal P pelo seu próprio tamanho\n",
    "pSemFalha = dividePorN(pSemFalha)\n",
    "pFalhaA = dividePorN(pFalhaA)\n",
    "pFalhaB = dividePorN(pFalhaB)"
   ]
  },
  {
   "cell_type": "markdown",
   "metadata": {
    "colab_type": "text",
    "id": "Upc9sFUGMsD5"
   },
   "source": [
    "# Aplicar FFT"
   ]
  },
  {
   "cell_type": "code",
   "execution_count": null,
   "metadata": {
    "colab": {},
    "colab_type": "code",
    "id": "Cax__dI-J_0x"
   },
   "outputs": [],
   "source": [
    "# aplicando FFT\n",
    "fftSemFalha = np.fft.fft(pSemFalha)\n",
    "fftFalhaA = np.fft.fft(pFalhaA)\n",
    "fftFalhaB = np.fft.fft(pFalhaB)"
   ]
  },
  {
   "cell_type": "markdown",
   "metadata": {
    "colab_type": "text",
    "id": "c_7I7f4qTZtI"
   },
   "source": [
    "# Aplicar FFTSHIFT"
   ]
  },
  {
   "cell_type": "code",
   "execution_count": null,
   "metadata": {
    "colab": {},
    "colab_type": "code",
    "id": "cj79DnS9J_qH"
   },
   "outputs": [],
   "source": [
    "fftshSemFalha = np.fft.fftshift(fftSemFalha)\n",
    "fftshFalhaA = np.fft.fftshift(fftFalhaA)\n",
    "fftshFalhaB = np.fft.fftshift(fftFalhaB)"
   ]
  },
  {
   "cell_type": "code",
   "execution_count": null,
   "metadata": {
    "colab": {},
    "colab_type": "code",
    "id": "T3WGoGDCehWw"
   },
   "outputs": [],
   "source": [
    "# invertendo as fases dos sinais\n",
    "fftshSemFalha = inverteFaseSinal(fftshSemFalha)\n",
    "fftshFalhaA = inverteFaseSinal(fftshFalhaA)\n",
    "fftshFalhaB = inverteFaseSinal(fftshFalhaB)"
   ]
  },
  {
   "cell_type": "code",
   "execution_count": null,
   "metadata": {
    "colab": {},
    "colab_type": "code",
    "id": "rRzKBeHsaVMJ"
   },
   "outputs": [],
   "source": [
    "freqsSemFalha = geraFreqs(fftshSemFalha)\n",
    "freqsFalhaA = geraFreqs(fftshFalhaA)\n",
    "freqsFalhaB = geraFreqs(fftshFalhaB)"
   ]
  },
  {
   "cell_type": "markdown",
   "metadata": {
    "colab_type": "text",
    "id": "y43jxaewg_ja"
   },
   "source": [
    "Agora temos que gerar uma rotina que faça os mesmos procedimentos para os seis dados de cada falha.\n"
   ]
  },
  {
   "cell_type": "markdown",
   "metadata": {
    "colab_type": "text",
    "id": "-svrrxbwH5gX"
   },
   "source": [
    "# Aplicação do Filtro (limpeza do Sinal)\n",
    "\n",
    "Aqui vamos aplicar um filtro FIR para eliminar os ruídos e caracterizar as falhas. \n",
    "\n",
    "Será utiliza um filtro FIR pois ele tem resposta de fase linear, ou seja, não distorce o sinal.\n",
    "\n",
    "Será utilizado filtros de ordem 5 pois foi o que apresentou bons resultados entre filtros de ordem 1 a 10 e este número é bastante usado na prática de acordo com a literatura.\n",
    "\n",
    "Para as diferentes severidades existe ruídos e dados importantes na mesma em frequências simetricas. Como os filtros aqui usados (passa-baixa e passa-alta) são simétricos, então em certos casos iremos usar a propriedade de translação na frequência (modulação) da Transformada de Fourier para quebrar essa simetria e então poder filtrar o sinal alvo. Após filtra-lo desfazemos a translação com o processo reverso."
   ]
  },
  {
   "cell_type": "markdown",
   "metadata": {
    "colab_type": "text",
    "id": "cWIruis0GVoV"
   },
   "source": [
    "# Falha A"
   ]
  },
  {
   "cell_type": "markdown",
   "metadata": {
    "colab_type": "text",
    "id": "uGO1QxC2GXUz"
   },
   "source": [
    "## Visualizando o sinal com ruido\n",
    "\n",
    "As falhas A escolhidas foram: 1 a 6"
   ]
  },
  {
   "cell_type": "code",
   "execution_count": null,
   "metadata": {
    "colab": {},
    "colab_type": "code",
    "id": "K3Lgd3bwGdkn"
   },
   "outputs": [],
   "source": [
    "# carregando dados da Falha A\n",
    "listaXa = [falhaA_1x, falhaA_2x, falhaA_3x, falhaA_4x, falhaA_5x, falhaA_6x]\n",
    "listaYa = [falhaA_1y, falhaA_2y, falhaA_3y, falhaA_4y, falhaA_5y, falhaA_6y]\n",
    "\n",
    "# obtendo sinais da falha A com ruído \n",
    "listaFreq, listaPfftSh, listaP = seisDadosNaFrequencia(listaXa, listaYa) "
   ]
  },
  {
   "cell_type": "markdown",
   "metadata": {
    "colab_type": "text",
    "id": "Y9rfVHrQHaus"
   },
   "source": [
    "Visualizando Falhas A com ruído no tempo e na frequência."
   ]
  },
  {
   "cell_type": "code",
   "execution_count": null,
   "metadata": {
    "colab": {
     "base_uri": "https://localhost:8080/",
     "height": 318
    },
    "colab_type": "code",
    "id": "qPX_1UWVHhUu",
    "outputId": "b9dbec11-d20e-4769-bacc-e0e971955d69"
   },
   "outputs": [],
   "source": [
    "aux = [tempo]*6\n",
    "plotaSEISfalhasZoomEixos(aux, listaP, \"Falhas A no tempo\", [0,.1], [-.00015,.00025])"
   ]
  },
  {
   "cell_type": "code",
   "execution_count": null,
   "metadata": {
    "colab": {
     "base_uri": "https://localhost:8080/",
     "height": 318
    },
    "colab_type": "code",
    "id": "-gotvxsgHzfM",
    "outputId": "fbba405d-3530-4e8d-a3b3-843ff48e5cbc"
   },
   "outputs": [],
   "source": [
    "plotaSEISfalhasZoomEixos(listaFreq, listaPfftSh, 'Falhas A observadas na frequencia', [-400,450], [-.01,.7])"
   ]
  },
  {
   "cell_type": "markdown",
   "metadata": {
    "colab_type": "text",
    "id": "pnbN_dxZIJMo"
   },
   "source": [
    "Obervamos 03 picos característicos na frequencia. Eles aparecem em 80Hz (força de excitação), 160Hz e 240Hz. 160Hz e 240Hz (2x e 3x) caracterizam a **falha por desalinhamento**. Logo queremos manter esses 3 picos caracteristicos e remover os demais com aplicacao de filtros.\n",
    "\n",
    "A frequência de corte na aplicação do filtro estará 10Hz acima ou abaixo da frequencia verdadeira, isso porque nosso filtro não é ideal, assim evitando corta algum sinal de interesse.\n",
    "\n",
    "Algumas falhas possuem espectros em comum na frequencia, logo algumas serão agrupadas no processamento destes sinais."
   ]
  },
  {
   "cell_type": "markdown",
   "metadata": {
    "colab_type": "text",
    "id": "3KTqMb1xKENH"
   },
   "source": [
    "## Processando o sinal (aplicação dos filtros)"
   ]
  },
  {
   "cell_type": "markdown",
   "metadata": {
    "colab_type": "text",
    "id": "FUImFHJNKKmZ"
   },
   "source": [
    "* Falha 01: filtro passa-baixa em 250Hz.\n",
    "\n",
    "* Falhas 02, 03 e 04: translação em frequência (-40Hz) para remover simetria do pico alvo (240Hz que se torna 200Hz) e ruido (-240Hz que se torna -280Hz)); filtro passa-baixa em 210Hz e destranslação em frequência (-40Hz).\n",
    "\n",
    "* Falha 05 e 06: filtro passa-alta em 70Hz."
   ]
  },
  {
   "cell_type": "code",
   "execution_count": null,
   "metadata": {
    "colab": {},
    "colab_type": "code",
    "id": "499SKhJxX_yj"
   },
   "outputs": [],
   "source": [
    "# posicoes no vetor de cada falha\n",
    "num1 = [0]\n",
    "num2e3e4 = [1,2,3]\n",
    "num5e6 = [4,5]\n",
    "\n",
    "# vetor para guardar falhas sem ruido\n",
    "listaFalhaAcorrig = listaP.copy()\n",
    "\n",
    "# processando A1\n",
    "listaFalhaAcorrig[0] =  butter_filtraPassaBaixa(listaFalhaAcorrig[0])\n",
    "\n",
    "# processando A2, A3 e A4\n",
    "listaFreq, listaPfftSh, listaP = seisDadosNaFrequencia(\n",
    "    listaXa, listaYa, transladar=True, w0=-40, tempo=tempo)\n",
    "\n",
    "listaFalhaAcorrig[1:3] = listaP[1:3].copy()\n",
    "\n",
    "listaFalhaAcorrig[1:3] =  butter_filtraPassaBaixa(listaFalhaAcorrig[1:3], Fc=210)\n",
    "\n",
    "listaFalhaAcorrig[1:3] = desfazTranslacaoLista(listaFalhaAcorrig[1:3], w0=-40, tempo=tempo)\n",
    "\n",
    "# processando A5, A6\n",
    "listaFalhaAcorrig[4:5] =  butter_filtraPassaAlta(listaFalhaAcorrig[4:5], Fc=70"
   ]
  },
  {
   "cell_type": "code",
   "execution_count": null,
   "metadata": {
    "colab": {
     "base_uri": "https://localhost:8080/",
     "height": 327
    },
    "colab_type": "code",
    "id": "NvZExHn_sWPH",
    "outputId": "e2d1f73b-8769-41af-ed66-507c6f38b97f"
   },
   "outputs": [],
   "source": [
    "# aplicando o filtro na Falha A-1\n",
    "falhaA1 = listaP[0].copy()\n",
    "\n",
    "plotarXeY(tempo, falhaA1, 'Sinal complexo FALHA A-1', [0, .1], [-.0001, .0002])"
   ]
  },
  {
   "cell_type": "code",
   "execution_count": null,
   "metadata": {
    "colab": {
     "base_uri": "https://localhost:8080/",
     "height": 330
    },
    "colab_type": "code",
    "id": "Gw70Xoc5q-5j",
    "outputId": "8a612d26-0886-4620-94c7-2178c553fdde"
   },
   "outputs": [],
   "source": [
    "falhaA1corrigida = butter_filtraPassaBaixa(falhaA1, ordemN=6)\n",
    "#falhaA1corrigida = butter_filtraPassaAlta(falhaA1corrigida, ordemN=7)\n",
    "plotarXeY(tempo, falhaA1corrigida, 'Sinal complexo FALHA A-1 FILTRADO', [.9, 1], [-.0001, .0002])"
   ]
  },
  {
   "cell_type": "code",
   "execution_count": null,
   "metadata": {
    "colab": {
     "base_uri": "https://localhost:8080/",
     "height": 327
    },
    "colab_type": "code",
    "id": "taaLnAtA4z2U",
    "outputId": "38e12564-28c1-4e91-92cc-8808a03e4709"
   },
   "outputs": [],
   "source": [
    "fftFalhaA = np.fft.fft(falhaA1corrigida)\n",
    "plotaSinalFFT(fftFalhaA, 'Sinal Falha A1 corrigida')"
   ]
  },
  {
   "cell_type": "code",
   "execution_count": null,
   "metadata": {
    "colab": {
     "base_uri": "https://localhost:8080/",
     "height": 327
    },
    "colab_type": "code",
    "id": "VX7yV1Oz5EEN",
    "outputId": "e488f9ad-a4b1-4d4d-e37f-8686134e429c"
   },
   "outputs": [],
   "source": [
    "fftshFalhaA = np.fft.fftshift(fftFalhaA)\n",
    "fftshFalhaA = inverteFaseSinal(fftshFalhaA)\n",
    "freqsFalhaA = geraFreqs(fftshFalhaA)\n",
    "plotarXeY(freqsFalhaA, fftshFalhaA, 'Corrigida FFTshifitada FALHA A-1', [-300, 700], [-.1, .6])"
   ]
  },
  {
   "cell_type": "code",
   "execution_count": null,
   "metadata": {
    "colab": {},
    "colab_type": "code",
    "id": "JLv9FxRyA_2S",
    "outputId": "9141c9e7-9e19-41e2-ffef-8668df7227d5"
   },
   "outputs": [],
   "source": [
    "plotarXeY(listaFreq[0], listaPfftSh[0], 'FFTshifitada FALHA A-1', [0, 500], [-.1, .6])"
   ]
  },
  {
   "cell_type": "code",
   "execution_count": null,
   "metadata": {
    "colab": {},
    "colab_type": "code",
    "id": "ODYfCv0hA_2X"
   },
   "outputs": [],
   "source": [
    "#listaFreq[0], listaPfftSh[0]\n",
    "sinalFiltradoA1 = listaPfftSh[0].copy()\n",
    "sinalFiltradoA1[listaFreq[0] > 241] = 0\n",
    "sinalFiltradoA1[listaFreq[0] < 79] = 0\n",
    "aux = sinalFiltradoA1.copy()\n",
    "# inverse fourier to get filtered frequency\n",
    "sinalFiltradoA1 = inverteFaseSinal(sinalFiltradoA1) \n",
    "sinalFiltradoA1 = np.fft.ifftshift(sinalFiltradoA1)\n",
    "sinalFiltrado = np.fft.ifft(sinalFiltradoA1)\n"
   ]
  },
  {
   "cell_type": "code",
   "execution_count": null,
   "metadata": {
    "colab": {},
    "colab_type": "code",
    "id": "5vJG3eZSA_2g",
    "outputId": "727060f1-d529-48b4-9d80-f04e28d9a4b4"
   },
   "outputs": [],
   "source": [
    "plotarXeY(listaFreq[0], aux, 'FFTshifitada FALHA A-1', [0, 500], [-.1, .6])"
   ]
  },
  {
   "cell_type": "code",
   "execution_count": null,
   "metadata": {
    "colab": {},
    "colab_type": "code",
    "id": "vc7pKit6A_2o",
    "outputId": "7a3f58df-8f5b-4dd9-ef21-537a53a13ead"
   },
   "outputs": [],
   "source": [
    "plotarXeY(tempo, falhaA1corrigida, 'FALHA A-1 filtro PYTHON', [.9, 1], [-.0001, .0002])"
   ]
  },
  {
   "cell_type": "code",
   "execution_count": null,
   "metadata": {
    "colab": {},
    "colab_type": "code",
    "id": "WrGLgkDEA_2t",
    "outputId": "d8cc1505-1ce7-410b-facb-24780b706ff1"
   },
   "outputs": [],
   "source": [
    "plotarXeY(tempo, pFalhaA, 'Sinal complexo FALHA A-1', [0, .1], [-.0001, .0002])"
   ]
  },
  {
   "cell_type": "code",
   "execution_count": null,
   "metadata": {
    "colab": {},
    "colab_type": "code",
    "id": "TD5bPmctA_2z",
    "outputId": "5ce71e16-6439-4cf1-a89a-fd49f4d2e7ef"
   },
   "outputs": [],
   "source": [
    "plotarXeY(tempo, listaPfftSh[0], 'Sinal complexo FALHA A-1 FILTRADO', [0, .01], [-.0001, .0002])"
   ]
  },
  {
   "cell_type": "markdown",
   "metadata": {
    "colab_type": "text",
    "id": "fSoG2PTcA_22"
   },
   "source": [
    "## falha A2 deslocada no tempo"
   ]
  },
  {
   "cell_type": "code",
   "execution_count": null,
   "metadata": {
    "colab": {},
    "colab_type": "code",
    "id": "cI2JCzeCA_23",
    "outputId": "037a6c0d-1e0d-4ebf-a16d-58815a3471e4"
   },
   "outputs": [],
   "source": [
    "listaFreq, listaPfftSh, listaP = seisDadosNaFrequencia(\n",
    "    listaX=listaXa, listaY=listaYa, tempo=tempo)\n",
    "\n",
    "falhaA2tempo = listaP[1]\n",
    "\n",
    "plotarXeY(\n",
    "    listaFreq[1], listaPfftSh[1],\n",
    "    'Sem translacao FFTshifitada FALHA A-2', [-500, 700], [-.1, .6])"
   ]
  },
  {
   "cell_type": "code",
   "execution_count": null,
   "metadata": {
    "colab": {},
    "colab_type": "code",
    "id": "vNJ1KN_XA_26",
    "outputId": "657cd220-0a91-482a-de08-ec58f481343e"
   },
   "outputs": [],
   "source": [
    "listaFreq, listaPfftSh, listaP = seisDadosNaFrequencia(\n",
    "    listaX=listaXa, listaY=listaYa, transladar=True, w0=-40, tempo=tempo)\n",
    "\n",
    "plotarXeY(\n",
    "    listaFreq[1], listaPfftSh[1],\n",
    "    'translacao FFTshifitada FALHA A-2', [-500, 700], [-.1, .6])"
   ]
  },
  {
   "cell_type": "code",
   "execution_count": null,
   "metadata": {
    "colab": {},
    "colab_type": "code",
    "id": "5n0KKxsQA_29"
   },
   "outputs": [],
   "source": [
    "falhaA2corrigida = butter_filtraPassaBaixa(listaP[1], Fc=230, ordemN=5)"
   ]
  },
  {
   "cell_type": "code",
   "execution_count": null,
   "metadata": {
    "colab": {},
    "colab_type": "code",
    "id": "Z3JPihJ5A_3C",
    "outputId": "c15e7ddf-7a51-4706-ddd8-8daa9466e333"
   },
   "outputs": [],
   "source": [
    "plotaSinalCorrigFreq(falhaA2corrigida,'Falha A2 transladada\\n corrigida na frequencia', [-500,500])"
   ]
  },
  {
   "cell_type": "code",
   "execution_count": null,
   "metadata": {
    "colab": {},
    "colab_type": "code",
    "id": "5BecSehEA_3F",
    "outputId": "c8dd2259-5896-4717-fca7-9aef98ae9d87"
   },
   "outputs": [],
   "source": [
    "plotarXeY(tempo, falhaA2tempo, 'Sinal complexo FALHA A-2', [0, .1], [-.0001, .0002])"
   ]
  },
  {
   "cell_type": "code",
   "execution_count": null,
   "metadata": {
    "colab": {},
    "colab_type": "code",
    "id": "d9X-4iyAA_3J",
    "outputId": "236fd350-8ec9-42d8-b9c9-6e1c62008fee"
   },
   "outputs": [],
   "source": [
    "plotarXeY(tempo, falhaA2corrigida, 'FALHA A-2 CORRIGIDO - Filtro Python', [0, .1], [-.0001, .0002])"
   ]
  },
  {
   "cell_type": "code",
   "execution_count": null,
   "metadata": {
    "colab": {},
    "colab_type": "code",
    "id": "RuUSy9DcA_3L",
    "outputId": "a7522d0d-5c8c-46ab-d079-eca4fb36211f"
   },
   "outputs": [],
   "source": [
    "aux = desfazTranslacaoFreqV2(falhaA2corrigida, w0=-40, tempo=tempo)\n",
    "plotaSinalCorrigFreq(aux,'Falha A2 corrigida na frequencia', [-400,400])\n",
    "#plotarXeY(tempo, aux, 'FALHA A-2 CORRIGIDO - Filtro Python', [0, .1], [-.0001, .0002])"
   ]
  },
  {
   "cell_type": "code",
   "execution_count": null,
   "metadata": {
    "colab": {},
    "colab_type": "code",
    "id": "oIfnz3fOA_3Q",
    "outputId": "8a62984c-1b33-4199-cdb0-3d5830bb4db6"
   },
   "outputs": [],
   "source": [
    "aux = desfazTranslacaoFreqV2(falhaA2corrigida, w0=-40, tempo=tempo)\n",
    "plotarXeY(tempo, aux, 'FALHA A-2 CORRIGIDO - Filtro Python', [0, .1], [-.0001, .0002])"
   ]
  },
  {
   "cell_type": "code",
   "execution_count": null,
   "metadata": {
    "colab": {},
    "colab_type": "code",
    "id": "IlrPFjRdA_3T",
    "outputId": "14f12d0d-f1e2-4484-c67f-7d5fa40a0dab"
   },
   "outputs": [],
   "source": [
    "plotaSinalCorrigFreq(aux,'Falha A2 corrigida na frequencia', [-500,500])"
   ]
  },
  {
   "cell_type": "code",
   "execution_count": null,
   "metadata": {
    "colab": {},
    "colab_type": "code",
    "id": "drU0-jVzA_3W"
   },
   "outputs": [],
   "source": [
    "falhaA2corrSemTranslac = desfazTranslacaoFreq(falhaA2corrigida, w0=-40, tempo=tempo)"
   ]
  },
  {
   "cell_type": "code",
   "execution_count": null,
   "metadata": {
    "colab": {},
    "colab_type": "code",
    "id": "vdMb4JQnA_3Z",
    "outputId": "d83dbb0b-2128-4efa-88cd-c549dd9c7934"
   },
   "outputs": [],
   "source": [
    "plotarXeY(tempo, falhaA2corrSemTranslac, 'FALHA A-2 CORRIGIDO - Filtro Python', [0, .1], [-.0001, .0002])"
   ]
  },
  {
   "cell_type": "markdown",
   "metadata": {
    "colab_type": "text",
    "id": "nw9-42QI9RWw"
   },
   "source": [
    "\n",
    "## PassaBaixa Falha A2"
   ]
  },
  {
   "cell_type": "code",
   "execution_count": null,
   "metadata": {
    "colab": {
     "base_uri": "https://localhost:8080/",
     "height": 330
    },
    "colab_type": "code",
    "id": "nxGTg5mo9VUr",
    "outputId": "4320aa24-9f89-4e7b-cd80-422b63106c84"
   },
   "outputs": [],
   "source": [
    "# aplicando o filtro na Falha A-1\n",
    "falhaA2 = listaP[1].copy()\n",
    "\n",
    "plotarXeY(tempo, falhaA2, 'Sinal complexo FALHA A-2', [0, .1], [-.0001, .0002])\n"
   ]
  },
  {
   "cell_type": "code",
   "execution_count": null,
   "metadata": {
    "colab": {},
    "colab_type": "code",
    "id": "QhBG3gZbA_3k",
    "outputId": "ede66df3-d8e1-456b-b866-0b90e7c14bcf"
   },
   "outputs": [],
   "source": [
    "aux = [tempo]*6\n",
    "plotaSEISfalhasZoomEixos(aux, listaP, \"Falhas A no tempo\", [0,.1], [-.00015,.00025])\n",
    "#aux"
   ]
  },
  {
   "cell_type": "code",
   "execution_count": null,
   "metadata": {
    "colab": {
     "base_uri": "https://localhost:8080/",
     "height": 330
    },
    "colab_type": "code",
    "id": "yJ2qazM1-Euf",
    "outputId": "084a100b-8002-4360-f970-fe14d53115c2"
   },
   "outputs": [],
   "source": [
    "# passaAlta\n",
    "falhaA2corrigida = butter_filtraPassaBaixa(falhaA2,Fc=245, ordemN=5)\n",
    "#falhaA2corrigida = butter_filtraPassaAlta(falhaA2corrigida, ordemN=5)\n",
    "#falhaA2corrigida = butter_filtraPassaAlta(falhaA2corrigida, ordemN=1,\n",
    "plotarXeY(tempo, falhaA2corrigida, 'FALHA A-2 CORRIGIDO - Filtro Python', [0, .1], [-.0001, .0002])"
   ]
  },
  {
   "cell_type": "markdown",
   "metadata": {
    "colab_type": "text",
    "id": "HKru5EgwYpjR"
   },
   "source": [
    "# Falha B"
   ]
  },
  {
   "cell_type": "markdown",
   "metadata": {
    "colab_type": "text",
    "id": "pLmCpL4pYy7p"
   },
   "source": [
    "# Visualizando o sinal com ruido\n",
    "As falhas B escolhidas foram: 1 a 6"
   ]
  },
  {
   "cell_type": "code",
   "execution_count": null,
   "metadata": {
    "colab": {},
    "colab_type": "code",
    "id": "-9iWJbCg-EsA"
   },
   "outputs": [],
   "source": [
    "# carregando dados da Falha B\n",
    "listaXb = [falhaB_1x, falhaB_2x, falhaB_3x, falhaB_4x, falhaB_5x, falhaB_6x]\n",
    "listaYb = [falhaB_1y, falhaB_2y, falhaB_3y, falhaB_4y, falhaB_5y, falhaB_6y]\n",
    "\n",
    "# obtendo sinais da falha B com ruído \n",
    "listaFreq, listaPfftSh, listaP = seisDadosNaFrequencia(listaXb, listaYb) "
   ]
  },
  {
   "cell_type": "markdown",
   "metadata": {
    "colab_type": "text",
    "id": "1gfLx8XIZcV_"
   },
   "source": [
    "Visualizando Falhas B com ruído no tempo e na frequência."
   ]
  },
  {
   "cell_type": "code",
   "execution_count": null,
   "metadata": {
    "colab": {
     "base_uri": "https://localhost:8080/",
     "height": 337
    },
    "colab_type": "code",
    "id": "VhHtnwUn2nKN",
    "outputId": "ffe6c8ff-83e9-4c0b-bc7b-976114fc2aa8"
   },
   "outputs": [],
   "source": [
    "aux = [tempo]*6\n",
    "plotaSEISfalhasZoomEixos(aux, listaP, \"Falhas B no tempo\", [0,.05], [-.00015,.00025])\n"
   ]
  },
  {
   "cell_type": "code",
   "execution_count": null,
   "metadata": {
    "colab": {
     "base_uri": "https://localhost:8080/",
     "height": 337
    },
    "colab_type": "code",
    "id": "wZSBMF8lA_4t",
    "outputId": "7020d6f7-ffbe-4387-b190-c262e1f2af82"
   },
   "outputs": [],
   "source": [
    "plotaSEISfalhasZoomEixos(listaFreq, listaPfftSh, 'Falhas B observadas na frequencia', [-400,450], [-.01,.7])"
   ]
  },
  {
   "cell_type": "markdown",
   "metadata": {
    "colab_type": "text",
    "id": "RzP-8yBzbUN_"
   },
   "source": [
    "Obervamos 03 picos característicos na frequencia. Eles aparecem em 80Hz (força de excitação), 160Hz e 240Hz. -80Hz e -160Hz (-1x e -2x) caracterizam a **falha por desgasti de mancal**. Logo queremos manter esses 3 picos caracteristicos e remover os demais com aplicacao de filtros.\n",
    "\n",
    "A frequência de corte na aplicação do filtro estará 10Hz acima ou abaixo da frequencia verdadeira, isso porque nosso filtro não é ideal, assim evitando corta algum sinal de interesse.\n",
    "\n",
    "Algumas falhas possuem espectros em comum na frequencia, logo algumas serão agrupadas no processamento destes sinais."
   ]
  },
  {
   "cell_type": "markdown",
   "metadata": {
    "colab_type": "text",
    "id": "bLsIYWOyd5On"
   },
   "source": [
    "# Processando o sinal (aplicação dos filtros)"
   ]
  },
  {
   "cell_type": "markdown",
   "metadata": {
    "colab_type": "text",
    "id": "sOaz82ARd_fw"
   },
   "source": [
    "* Falha 01 e 06: filtro passa-alta em 70Hz.\n",
    "\n",
    "* Falhas 02, 05: filtro passa-baixa em 170Hz.\n",
    "\n",
    "* Falha 03 e 04: filtro passa-alta em 70Hz e passa-baixa em 170Hz.\n"
   ]
  },
  {
   "cell_type": "code",
   "execution_count": null,
   "metadata": {
    "colab": {},
    "colab_type": "code",
    "id": "MKtfPA4ieaT3"
   },
   "outputs": [],
   "source": [
    "# posicoes no vetor de cada falha\n",
    "num1e6 = [0,5]\n",
    "num2e5 = [1,4]\n",
    "num3e4 = [2,3]\n",
    "\n",
    "# vetor para guardar falhas sem ruido\n",
    "listaFalhaBcorrig = listaP.copy()\n",
    "\n",
    "# processando B1 e B6\n",
    "listaFalhaBcorrig[0] =  butter_filtraPassaAlta(listaFalhaBcorrig[0], Fc=70)\n",
    "listaFalhaBcorrig[5] =  butter_filtraPassaAlta(listaFalhaBcorrig[5], Fc=70)\n",
    "\n",
    "# porcessando B2 e B5\n",
    "listaFalhaBcorrig[1] =  butter_filtraPassaBaixa(listaFalhaBcorrig[1], Fc=170)\n",
    "listaFalhaBcorrig[4] =  butter_filtraPassaBaixa(listaFalhaBcorrig[4], Fc=170)\n",
    "\n",
    "# porcessando B3 e B4\n",
    "listaFalhaBcorrig[2] =  butter_filtraPassaBaixa(listaFalhaBcorrig[2], Fc=170)\n",
    "listaFalhaBcorrig[3] =  butter_filtraPassaBaixa(listaFalhaBcorrig[3], Fc=170)\n",
    "listaFalhaBcorrig[2] =  butter_filtraPassaAlta(listaFalhaBcorrig[2], Fc=70)\n",
    "listaFalhaBcorrig[3] =  butter_filtraPassaAlta(listaFalhaBcorrig[3], Fc=70)\n"
   ]
  },
  {
   "cell_type": "code",
   "execution_count": null,
   "metadata": {
    "colab": {},
    "colab_type": "code",
    "id": "2dTG1A2BzHr-"
   },
   "outputs": [],
   "source": [
    "listaFreq, listaPfftSh, listaP = seisDadosNaFrequencia(listaXb, listaYb)"
   ]
  },
  {
   "cell_type": "code",
   "execution_count": null,
   "metadata": {
    "colab": {
     "base_uri": "https://localhost:8080/",
     "height": 337
    },
    "colab_type": "code",
    "id": "5ip5FbwN5_Vd",
    "outputId": "02200b71-225d-487d-cb99-12e27c1a6510"
   },
   "outputs": [],
   "source": [
    "#(eixoXvet, listaSinalSujo, listaSinalLimpo, titulo, xlim, ylim, numFalhas\n",
    "plotaComparacaoSujoLimpo(\n",
    "    tempo, listaP[0:3], listaFalhaBcorrig[0:3], 'Comparacao sinais B1, B2 e B3 no tempo',\n",
    "    [0,.05], [-.00015,.00025], [1,2,3])"
   ]
  },
  {
   "cell_type": "code",
   "execution_count": null,
   "metadata": {
    "colab": {
     "base_uri": "https://localhost:8080/",
     "height": 337
    },
    "colab_type": "code",
    "id": "-8kl_77R2aIW",
    "outputId": "b023a265-9771-46d8-8439-77eb48389281"
   },
   "outputs": [],
   "source": [
    "#(eixoXvet, listaSinalSujo, listaSinalLimpo, titulo, xlim, ylim, numFalhas\n",
    "plotaComparacaoSujoLimpo(\n",
    "    tempo, listaP[3:7], listaFalhaBcorrig[3:7], 'Comparacao sinais B4, B5 e B6 no tempo',\n",
    "    [0,.05], [-.00015,.00025], [4,5,6])"
   ]
  },
  {
   "cell_type": "code",
   "execution_count": null,
   "metadata": {
    "colab": {},
    "colab_type": "code",
    "id": "GxRkpnJh21Zr"
   },
   "outputs": [],
   "source": [
    "#def seisDadosNaFrequenciaLIMPO(listaP, tempo=[0,1,2]):\n",
    "listaFreqLimpo, listaPfftShLimpo, listaPLimpo = seisDadosNaFrequenciaLIMPO(listaFalhaBcorrig, tempo)"
   ]
  },
  {
   "cell_type": "code",
   "execution_count": null,
   "metadata": {
    "colab": {
     "base_uri": "https://localhost:8080/",
     "height": 337
    },
    "colab_type": "code",
    "id": "rfNy39O35qiT",
    "outputId": "676d398c-e896-4d00-bdc2-86018e269406"
   },
   "outputs": [],
   "source": [
    "#(eixoXvet, listaSinalSujo, listaSinalLimpo, titulo, xlim, ylim, numFalhas\n",
    "plotaComparacaoSujoLimpo(\n",
    "    listaFreq[0], listaPfftSh[0:3], listaPfftShLimpo[0:3], 'Comparacao sinais B1, B2 e B3 na frequencia',\n",
    "    [-400,450], [-.01,.7], [1,2,3])"
   ]
  },
  {
   "cell_type": "code",
   "execution_count": null,
   "metadata": {
    "colab": {
     "base_uri": "https://localhost:8080/",
     "height": 337
    },
    "colab_type": "code",
    "id": "U_MpftxI5tU_",
    "outputId": "1c93392b-208d-49d1-e611-d4459ef30033"
   },
   "outputs": [],
   "source": [
    "#(eixoXvet, listaSinalSujo, listaSinalLimpo, titulo, xlim, ylim, numFalhas\n",
    "plotaComparacaoSujoLimpo(\n",
    "    listaFreq[0], listaPfftSh[3:7], listaPfftShLimpo[3:7], 'Comparacao sinais B4, B5 e B6 na frequencia',\n",
    "    [-400,450], [-.01,.7], [1,2,3])"
   ]
  }
 ],
 "metadata": {
  "colab": {
   "collapsed_sections": [],
   "name": "projetoPython.ipynb",
   "provenance": []
  },
  "kernelspec": {
   "display_name": "Python 3",
   "language": "python",
   "name": "python3"
  },
  "language_info": {
   "codemirror_mode": {
    "name": "ipython",
    "version": 3
   },
   "file_extension": ".py",
   "mimetype": "text/x-python",
   "name": "python",
   "nbconvert_exporter": "python",
   "pygments_lexer": "ipython3",
   "version": "3.6.8"
  }
 },
 "nbformat": 4,
 "nbformat_minor": 1
}
